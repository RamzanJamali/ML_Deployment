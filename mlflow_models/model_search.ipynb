{
 "cells": [
  {
   "cell_type": "code",
   "execution_count": 1,
   "metadata": {},
   "outputs": [],
   "source": [
    "import json\n",
    "\n",
    "import mlflow\n",
    "import numpy as np\n",
    "import pandas as pd\n",
    "import requests\n",
    "from mlflow.tracking import MlflowClient\n",
    "\n",
    "from train_rf import CATEGORICAL_FEATURES, NUMERICAL_FEATURES\n"
   ]
  },
  {
   "cell_type": "code",
   "execution_count": 2,
   "metadata": {},
   "outputs": [],
   "source": [
    "current_experiment=dict(mlflow.get_experiment_by_name(\"fraud\"))\n",
    "experiment_id=current_experiment['experiment_id']\n",
    "\n",
    "# Get this from UI or CLI\n",
    "rf_parent_run = \"9acecc61274b4dc7b81724bf4e84a89c\""
   ]
  },
  {
   "cell_type": "markdown",
   "metadata": {},
   "source": [
    "## Find the best model"
   ]
  },
  {
   "cell_type": "code",
   "execution_count": 19,
   "metadata": {},
   "outputs": [
    {
     "name": "stdout",
     "output_type": "stream",
     "text": [
      "Experiment had 10 HP tuning round\n",
      "Best run - 2 with PR AUC of 0.1515\n"
     ]
    }
   ],
   "source": [
    "# To access MLFlow stuff we need to work with MlflowClient\n",
    "client = MlflowClient()\n",
    "\n",
    "# Searches runs for a specific attribute and filters them by Parent Run ID\n",
    "runs = client.search_runs(\n",
    "    [experiment_id], \n",
    "    f\"tags.mlflow.parentRunId = '{rf_parent_run}'\", \n",
    "    order_by=[\"metrics.test_PR_AUC DESC\"]\n",
    ")\n",
    "\n",
    "# Select the best run according to test_PR_AUC metric\n",
    "best_run = np.argmax([f.data.metrics['test_PR_AUC'] for f in runs])\n",
    "best_pr_auc = np.round(runs[best_run].data.metrics['test_PR_AUC'], 4)\n",
    "\n",
    "print(f\"Experiment had {len(runs)} HP tuning round\")\n",
    "print(f\"Best run - {best_run} with PR AUC of {best_pr_auc}\")"
   ]
  },
  {
   "cell_type": "code",
   "execution_count": 28,
   "metadata": {},
   "outputs": [
    {
     "name": "stdout",
     "output_type": "stream",
     "text": [
      "Best model URI - runs:/46596cc55a144ff49b7ccf81ad821d04/sklearn_models\n"
     ]
    }
   ],
   "source": [
    "# log-model history is stored as string, so we need to \"jsonify\" it first\n",
    "log_model_info = json.loads(runs[best_run].data.tags['mlflow.log-model.history'])[0]\n",
    "\n",
    "# Construct a valid model URI\n",
    "model_uri = 'runs:/' + log_model_info['run_id'] + '/' + log_model_info['artifact_path']\n",
    "print(f\"Best model URI - {model_uri}\")\n"
   ]
  },
  {
   "cell_type": "markdown",
   "metadata": {},
   "source": [
    "## Load the best model"
   ]
  },
  {
   "cell_type": "code",
   "execution_count": 38,
   "metadata": {},
   "outputs": [],
   "source": [
    "# Data sample to test the model\n",
    "data = pd.read_csv(\"./data/raw/Base.csv\", nrows=1)"
   ]
  },
  {
   "cell_type": "code",
   "execution_count": 39,
   "metadata": {},
   "outputs": [
    {
     "data": {
      "text/plain": [
       "array([[0.92940047, 0.07059953]])"
      ]
     },
     "execution_count": 39,
     "metadata": {},
     "output_type": "execute_result"
    }
   ],
   "source": [
    "# Load the model as pyfunc\n",
    "sklearn_pyfunc = mlflow.pyfunc.load_model(model_uri=model_uri)\n",
    "sklearn_pyfunc.predict(data)"
   ]
  },
  {
   "cell_type": "markdown",
   "metadata": {},
   "source": [
    "## Register and Promote"
   ]
  },
  {
   "cell_type": "code",
   "execution_count": 40,
   "metadata": {},
   "outputs": [
    {
     "name": "stderr",
     "output_type": "stream",
     "text": [
      "Successfully registered model 'fraud_RF'.\n",
      "2023/02/12 13:20:18 INFO mlflow.tracking._model_registry.client: Waiting up to 300 seconds for model version to finish creation.                     Model name: fraud_RF, version 1\n",
      "Created version '1' of model 'fraud_RF'.\n"
     ]
    }
   ],
   "source": [
    "model_name = 'fraud_RF'\n",
    "model_version = 1\n",
    "\n",
    "# Register model\n",
    "mlflow.register_model(model_uri, model_name)\n",
    "\n",
    "# Promote to Production\n",
    "logs = client.transition_model_version_stage(name=model_name, version=model_version, stage=\"Production\")"
   ]
  },
  {
   "cell_type": "markdown",
   "metadata": {},
   "source": [
    "## Load from Production Model Registry"
   ]
  },
  {
   "cell_type": "code",
   "execution_count": 44,
   "metadata": {},
   "outputs": [
    {
     "data": {
      "text/plain": [
       "array([[0.92940047, 0.07059953]])"
      ]
     },
     "execution_count": 44,
     "metadata": {},
     "output_type": "execute_result"
    }
   ],
   "source": [
    "model_name = 'fraud_RF'\n",
    "stage = 'Production'\n",
    "\n",
    "# Since it's a registered model in Production, we can load it like this now!\n",
    "# No need for model URIs\n",
    "model_registry_path = f'models:/{model_name}/{stage}'\n",
    "production_model = mlflow.pyfunc.load_model(model_registry_path)\n",
    "\n",
    "production_model.predict(data)"
   ]
  },
  {
   "cell_type": "markdown",
   "metadata": {},
   "source": [
    "## Serve models"
   ]
  },
  {
   "cell_type": "markdown",
   "metadata": {},
   "source": [
    "Run this command in the terminal: `mlflow models serve --model-uri models:/fraud_RF/Production -p 5001`"
   ]
  },
  {
   "cell_type": "markdown",
   "metadata": {},
   "source": [
    "### Call from server"
   ]
  },
  {
   "cell_type": "code",
   "execution_count": 46,
   "metadata": {},
   "outputs": [
    {
     "data": {
      "text/plain": [
       "[0]"
      ]
     },
     "execution_count": 46,
     "metadata": {},
     "output_type": "execute_result"
    }
   ],
   "source": [
    "# Prepare the data to be sent to API\n",
    "fraud_example = data[data['fraud_bool'] == 1][NUMERICAL_FEATURES + CATEGORICAL_FEATURES]\n",
    "to_send = fraud_example.to_dict(orient='split')\n",
    "to_send.pop(\"index\", None)"
   ]
  },
  {
   "cell_type": "code",
   "execution_count": 47,
   "metadata": {},
   "outputs": [
    {
     "name": "stdout",
     "output_type": "stream",
     "text": [
      "{'predictions': [[0.9294004729658535, 0.07059952703414646]]}\n"
     ]
    }
   ],
   "source": [
    "# Prediction endpoint\n",
    "url = 'http://127.0.0.1:5001/invocations'\n",
    "\n",
    "# Preprocess the example\n",
    "response = requests.post(url=url, data=json.dumps({\"dataframe_split\" :to_send}), headers={\"Content-type\": \"application/json\"})\n",
    "\n",
    "# Load the response\n",
    "response_json = json.loads(response.text)\n",
    "print(response_json)"
   ]
  }
 ],
 "metadata": {
  "interpreter": {
   "hash": "a2df742b932880654a3f6652148a9c802dc0dfad475f6beda4797814052023f2"
  },
  "kernelspec": {
   "display_name": "Python 3.9.13 ('base')",
   "language": "python",
   "name": "python3"
  },
  "language_info": {
   "codemirror_mode": {
    "name": "ipython",
    "version": 3
   },
   "file_extension": ".py",
   "mimetype": "text/x-python",
   "name": "python",
   "nbconvert_exporter": "python",
   "pygments_lexer": "ipython3",
   "version": "3.9.13"
  },
  "orig_nbformat": 4
 },
 "nbformat": 4,
 "nbformat_minor": 2
}
